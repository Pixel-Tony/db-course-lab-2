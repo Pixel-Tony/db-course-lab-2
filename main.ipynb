{
 "cells": [
  {
   "cell_type": "code",
   "execution_count": 31,
   "metadata": {},
   "outputs": [],
   "source": [
    "from bplus_tree import MultiSetBplusTree\n",
    "from hashing import name_hash\n",
    "from random import shuffle\n",
    "\n",
    "\n",
    "ORDER = 4\n",
    "\n",
    "\n",
    "def _read_test_data():\n",
    "    with open('surnames.txt', 'r', encoding='utf8') as file:\n",
    "        return [[name[:name.index(' ')] for name in group.split('\\n')]\n",
    "                for group in file.read().split('\\n\\n')]"
   ]
  },
  {
   "cell_type": "code",
   "execution_count": 32,
   "metadata": {},
   "outputs": [
    {
     "name": "stdout",
     "output_type": "stream",
     "text": [
      "['Пазюка', 'Стасюк', 'Песчихін', 'Кобзар', 'Прокопюк', 'Кракович', 'Борисенко', 'Романюк', 'Противень', 'Маринич', 'Чичук', 'Костерєва', 'Ягода', 'Опанасюк', 'Шушпаннікова', 'Любімов', 'Кондрашова', 'Косецька', 'Треповський', 'Балицька', 'Омельченко', 'Скакун', 'Лушников', 'Шкарупило', 'Атаман']\n",
      "['Кузнецов', 'Чумак', 'Коломієць', 'Кузенко', 'Головащенко', 'Земляний', 'Прісич', 'Мусієнко', 'Недзельський', 'Гож', 'Пєшков', 'Касьяненко', 'Добронравіна', 'Пономаренко', 'Сдобніков', 'Погребняк', 'Ігнатьєв', 'Лазебний', 'Педенко', 'Шапаренко', 'Якімов', 'Вавровський', 'Рак', 'Петров', 'Кравченко', 'Авраменко']\n",
      "['Карпіна', 'Аклог', 'Григоренко', 'Троїцький', 'Бариш', 'Нікітін', 'Оленич', 'Заіченко', 'Бабенко', 'Воловенко', 'Резник', 'Мартинюк', 'Лук`яненко', 'Кобець', 'Гусар', 'Данилюк', 'Юськевич', 'Словак', 'Дітріх', 'Скрильник', 'Онищенко', 'Пацалюк', 'Воловик', 'Бобришев']\n"
     ]
    }
   ],
   "source": [
    "students = _read_test_data()\n",
    "surnames = MultiSetBplusTree(ORDER, name_hash)\n",
    "\n",
    "for group in students:\n",
    "    group = group.copy()\n",
    "    shuffle(group)\n",
    "    # print(group)\n",
    "\n",
    "    for surname in group:\n",
    "        surnames.insert(surname)"
   ]
  },
  {
   "cell_type": "code",
   "execution_count": 33,
   "metadata": {},
   "outputs": [],
   "source": [
    "with open('tree.txt', 'w', -1, 'utf8') as file:\n",
    "    print(surnames.to_str(), file=file)"
   ]
  },
  {
   "cell_type": "code",
   "execution_count": 34,
   "metadata": {},
   "outputs": [
    {
     "data": {
      "text/plain": [
       "[('Атаман', True),\n",
       " ('Балицька', True),\n",
       " ('Борисенко', True),\n",
       " ('Кобзар', True),\n",
       " ('Кондрашова', True),\n",
       " ('Косецька', True),\n",
       " ('Костерєва', True),\n",
       " ('Кракович', True),\n",
       " ('Лушников', True),\n",
       " ('Любімов', True),\n",
       " ('Маринич', True),\n",
       " ('Омельченко', True),\n",
       " ('Опанасюк', True),\n",
       " ('Пазюка', True),\n",
       " ('Песчихін', True),\n",
       " ('Прокопюк', True),\n",
       " ('Противень', True),\n",
       " ('Романюк', True),\n",
       " ('Скакун', True),\n",
       " ('Стасюк', True),\n",
       " ('Треповський', True),\n",
       " ('Чичук', True),\n",
       " ('Шкарупило', True),\n",
       " ('Шушпаннікова', True),\n",
       " ('Ягода', True),\n",
       " ('Авраменко', True),\n",
       " ('Вавровський', True),\n",
       " ('Гож', True),\n",
       " ('Головащенко', True),\n",
       " ('Добронравіна', True),\n",
       " ('Земляний', True),\n",
       " ('Ігнатьєв', True),\n",
       " ('Касьяненко', True),\n",
       " ('Коломієць', True),\n",
       " ('Кравченко', True),\n",
       " ('Кузенко', True),\n",
       " ('Кузнецов', True),\n",
       " ('Лазебний', True),\n",
       " ('Мусієнко', True),\n",
       " ('Недзельський', True),\n",
       " ('Педенко', True),\n",
       " ('Петров', True),\n",
       " ('Пєшков', True),\n",
       " ('Погребняк', True),\n",
       " ('Пономаренко', True),\n",
       " ('Прісич', True),\n",
       " ('Рак', True),\n",
       " ('Сдобніков', True),\n",
       " ('Чумак', True),\n",
       " ('Шапаренко', True),\n",
       " ('Якімов', True),\n",
       " ('Аклог', True),\n",
       " ('Бабенко', True),\n",
       " ('Бариш', True),\n",
       " ('Бобришев', True),\n",
       " ('Воловенко', True),\n",
       " ('Воловик', True),\n",
       " ('Григоренко', True),\n",
       " ('Гусар', True),\n",
       " ('Данилюк', True),\n",
       " ('Дітріх', True),\n",
       " ('Заіченко', True),\n",
       " ('Карпіна', True),\n",
       " ('Кобець', True),\n",
       " ('Лук`яненко', True),\n",
       " ('Мартинюк', True),\n",
       " ('Нікітін', True),\n",
       " ('Оленич', True),\n",
       " ('Онищенко', True),\n",
       " ('Пацалюк', True),\n",
       " ('Резник', True),\n",
       " ('Скрильник', True),\n",
       " ('Словак', True),\n",
       " ('Троїцький', True),\n",
       " ('Юськевич', True)]"
      ]
     },
     "execution_count": 34,
     "metadata": {},
     "output_type": "execute_result"
    }
   ],
   "source": [
    "print(all(surnames.has(v)\n",
    "          for group in students for v in group))\n",
    "\n",
    "[surnames.remove(v) for group in students for v in group]\n",
    "\n",
    "print(not any(surnames.has(v)\n",
    "              for group in students for v in group))"
   ]
  },
  {
   "cell_type": "code",
   "execution_count": 35,
   "metadata": {},
   "outputs": [],
   "source": []
  }
 ],
 "metadata": {
  "kernelspec": {
   "display_name": "Python 3",
   "language": "python",
   "name": "python3"
  },
  "language_info": {
   "codemirror_mode": {
    "name": "ipython",
    "version": 3
   },
   "file_extension": ".py",
   "mimetype": "text/x-python",
   "name": "python",
   "nbconvert_exporter": "python",
   "pygments_lexer": "ipython3",
   "version": "3.10.1"
  }
 },
 "nbformat": 4,
 "nbformat_minor": 2
}
